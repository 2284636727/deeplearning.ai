{
 "cells": [
  {
   "cell_type": "code",
   "execution_count": 1,
   "id": "d5e36c4e",
   "metadata": {},
   "outputs": [],
   "source": [
    "import numpy as np\n",
    "import matplotlib.pyplot as plt\n",
    "import h5py\n",
    "from lr_utils import load_dataset\n",
    "%matplotlib inline"
   ]
  },
  {
   "cell_type": "code",
   "execution_count": 93,
   "id": "f2de254e",
   "metadata": {},
   "outputs": [],
   "source": [
    "train_set_x_orig , train_set_y , test_set_x_orig , test_set_y , classes = load_dataset()"
   ]
  },
  {
   "cell_type": "code",
   "execution_count": 94,
   "id": "4579c420",
   "metadata": {},
   "outputs": [
    {
     "data": {
      "text/plain": [
       "<matplotlib.image.AxesImage at 0x16e7a7c8e50>"
      ]
     },
     "execution_count": 94,
     "metadata": {},
     "output_type": "execute_result"
    },
    {
     "data": {
      "image/png": "[encoded data removed]",
      "text/plain": [
       "<Figure size 432x288 with 1 Axes>"
      ]
     },
     "metadata": {
      "needs_background": "light"
     },
     "output_type": "display_data"
    }
   ],
   "source": [
    "index = 2\n",
    "plt.imshow(train_set_x_orig[index])"
   ]
  },
  {
   "cell_type": "code",
   "execution_count": 102,
   "id": "1eeca1c0",
   "metadata": {},
   "outputs": [],
   "source": [
    "tarin_set_x_flatten = train_set_x_orig.reshape(train_set_x_orig.shape[0],-1).T\n",
    "test_set_x_flatten = test_set_x_orig.reshape(test_set_x_orig.shape[0],-1).T"
   ]
  },
  {
   "cell_type": "code",
   "execution_count": 104,
   "id": "dc5111a0",
   "metadata": {},
   "outputs": [],
   "source": [
    "train_set_x = tarin_set_x_flatten/255\n",
    "test_set_x = test_set_x_flatten/255"
   ]
  },
  {
   "cell_type": "code",
   "execution_count": 97,
   "id": "e1a0b6d3",
   "metadata": {},
   "outputs": [],
   "source": [
    "def sigmoid(z):\n",
    "    a = 1 / (1+np.exp(-z))\n",
    "    return a"
   ]
  },
  {
   "cell_type": "code",
   "execution_count": 98,
   "id": "8af4990d",
   "metadata": {},
   "outputs": [],
   "source": [
    "def initialize_with_zeros(dim):\n",
    "    w = np.zeros([dim,1])\n",
    "    b = 0\n",
    "    return (w,b)"
   ]
  },
  {
   "cell_type": "code",
   "execution_count": 62,
   "id": "a5f83a7f",
   "metadata": {},
   "outputs": [],
   "source": [
    "def propagate(w ,b ,X ,Y):\n",
    "    m = X.shape[1]\n",
    "    \n",
    "    # Forward propagation\n",
    "    Z = np.dot(w.T,X) + b\n",
    "    A = sigmoid(Z)\n",
    "    L = - Y * np.log(A) - (1-Y) * np.log(1-A)\n",
    "    J =  1 / m * np.sum(L)\n",
    "    \n",
    "    # Back propagation\n",
    "    dw = 1/m * np.dot(X,(A-Y).T)\n",
    "    db = 1/m * np.sum(A-Y)\n",
    "    \n",
    "    J = np.squeeze(J)\n",
    "    grads = {\n",
    "                \"dw\": dw,\n",
    "                \"db\": db\n",
    "             }\n",
    "    return (grads,J)"
   ]
  },
  {
   "cell_type": "code",
   "execution_count": 145,
   "id": "4012996e",
   "metadata": {},
   "outputs": [],
   "source": [
    "def optimize(w , b , X , Y , num_iterations , learning_rate , print_cost = 0):\n",
    "    costs = []\n",
    "    for i in range(num_iterations):\n",
    "        grads , cost = propagate(w , b , X , Y)\n",
    "        \n",
    "        dw = grads['dw']\n",
    "        db = grads['db']\n",
    "        \n",
    "        w = w - learning_rate * dw\n",
    "        b = b - learning_rate * db\n",
    "        \n",
    "        if i % print_cost == 0:\n",
    "            costs.append(cost)\n",
    "        if print_cost > 0 and i % print_cost == 0:\n",
    "                print(i,\"-----\",cost)\n",
    "        \n",
    "    params = {\n",
    "            \"w\" : w,\n",
    "            \"b\" : b\n",
    "             }\n",
    "    grads = {\n",
    "            \"dw\" : dw,\n",
    "            \"db\" : db\n",
    "             }\n",
    "    return (params,grads,costs)"
   ]
  },
  {
   "cell_type": "code",
   "execution_count": 125,
   "id": "6175a352",
   "metadata": {},
   "outputs": [],
   "source": [
    "def predict(w , b , X , t = -1):\n",
    "    Y_prediction = np.zeros([1,X.shape[1]])\n",
    "    Z = np.dot(w.T,X) + b\n",
    "    A = sigmoid(Z)\n",
    "    if t == -1:\n",
    "        Y_prediction = A\n",
    "    else:\n",
    "        for i in range(X.shape[1]):\n",
    "            Y_prediction[0,i] = 1 if A[0,i] > t else 0\n",
    "    return Y_prediction"
   ]
  },
  {
   "cell_type": "code",
   "execution_count": 153,
   "id": "0e5aadd1",
   "metadata": {
    "collapsed": true
   },
   "outputs": [
    {
     "name": "stdout",
     "output_type": "stream",
     "text": [
      "0 ----- 0.6931471805599453\n",
      "100 ----- 0.5912894260003538\n",
      "200 ----- 0.5557961107127088\n",
      "300 ----- 0.5289765131562365\n",
      "400 ----- 0.5068812917435517\n",
      "500 ----- 0.4878798632171657\n",
      "600 ----- 0.47110827803124367\n",
      "700 ----- 0.4560458096982851\n",
      "800 ----- 0.4423502279336529\n",
      "900 ----- 0.4297817153507784\n",
      "1000 ----- 0.41816382093643273\n",
      "1100 ----- 0.4073617499582191\n",
      "1200 ----- 0.39726946872697994\n",
      "1300 ----- 0.3878016072295409\n",
      "1400 ----- 0.3788881303593958\n",
      "1500 ----- 0.3704706898360003\n",
      "1600 ----- 0.3625000422834636\n",
      "1700 ----- 0.35493416988240534\n",
      "1800 ----- 0.34773687946679727\n",
      "1900 ----- 0.34087673680743863\n",
      "2000 ----- 0.3343262415502278\n",
      "2100 ----- 0.3280611786620027\n",
      "2200 ----- 0.32206010177265726\n",
      "2300 ----- 0.31630391670931673\n",
      "2400 ----- 0.3107755422544872\n",
      "2500 ----- 0.30545963120192193\n",
      "2600 ----- 0.3003423390438105\n",
      "2700 ----- 0.29541113067902147\n",
      "2800 ----- 0.29065461775939866\n",
      "2900 ----- 0.286062420937727\n",
      "3000 ----- 0.28162505251428005\n",
      "3100 ----- 0.2773338159136979\n",
      "3200 ----- 0.2731807191403286\n",
      "3300 ----- 0.26915839991469176\n",
      "3400 ----- 0.26526006062693924\n",
      "3500 ----- 0.261479411584527\n",
      "3600 ----- 0.25781062130237786\n",
      "3700 ----- 0.25424827280064344\n",
      "3800 ----- 0.25078732504979767\n",
      "3900 ----- 0.2474230788443027\n",
      "4000 ----- 0.24415114650144543\n",
      "4100 ----- 0.24096742487649284\n",
      "4200 ----- 0.2378680712632095\n",
      "4300 ----- 0.23484948181327267\n",
      "4400 ----- 0.2319082721617514\n",
      "4500 ----- 0.2290412599906218\n",
      "4600 ----- 0.22624544929986443\n",
      "4700 ----- 0.22351801618733244\n",
      "4800 ----- 0.22085629596532613\n",
      "4900 ----- 0.21825777146449282\n",
      "5000 ----- 0.2157200623949826\n",
      "5100 ----- 0.21324091565128062\n",
      "5200 ----- 0.210818196461264\n",
      "5300 ----- 0.20844988029216865\n",
      "5400 ----- 0.2061340454366173\n",
      "5500 ----- 0.2038688662108992\n",
      "5600 ----- 0.20165260670552684\n",
      "5700 ----- 0.19948361503490988\n",
      "5800 ----- 0.1973603180389107\n",
      "5900 ----- 0.1952812163942314\n",
      "6000 ----- 0.1932448800981146\n",
      "6100 ----- 0.19124994429081893\n",
      "6200 ----- 0.18929510538683028\n",
      "6300 ----- 0.1873791174878518\n",
      "6400 ----- 0.1855007890533406\n",
      "6500 ----- 0.18365897980676854\n",
      "6600 ----- 0.1818525978579216\n",
      "6700 ----- 0.1800805970234519\n",
      "6800 ----- 0.17834197432958696\n",
      "6900 ----- 0.1766357676824074\n",
      "7000 ----- 0.17496105369245116\n",
      "7100 ----- 0.1733169456416097\n",
      "7200 ----- 0.17170259158135898\n",
      "7300 ----- 0.1701171725523402\n",
      "7400 ----- 0.16855990091617803\n",
      "7500 ----- 0.16703001879120774\n",
      "7600 ----- 0.16552679658449557\n",
      "7700 ----- 0.16404953161317234\n",
      "7800 ----- 0.16259754680868402\n",
      "7900 ----- 0.16117018949808576\n",
      "8000 ----- 0.15976683025698163\n",
      "8100 ----- 0.1583868618291469\n",
      "8200 ----- 0.1570296981082616\n",
      "8300 ----- 0.15569477317754188\n",
      "8400 ----- 0.15438154040338425\n",
      "8500 ----- 0.15308947157943328\n",
      "8600 ----- 0.15181805611775837\n",
      "8700 ----- 0.15056680028407138\n",
      "8800 ----- 0.14933522647414754\n",
      "8900 ----- 0.14812287252881973\n",
      "9000 ----- 0.14692929108510794\n",
      "9100 ----- 0.1457540489612227\n",
      "9200 ----- 0.14459672657334227\n",
      "9300 ----- 0.14345691738221233\n",
      "9400 ----- 0.14233422736775503\n",
      "9500 ----- 0.14122827452999853\n",
      "9600 ----- 0.14013868841475732\n",
      "9700 ----- 0.13906510966259822\n",
      "9800 ----- 0.13800718957972927\n",
      "9900 ----- 0.13696458972953743\n",
      "训练集ACC: 0.9904306220095693\n",
      "测试集ACC: 0.7\n"
     ]
    }
   ],
   "source": [
    "w, b = initialize_with_zeros(train_set_x.shape[0])\n",
    "\n",
    "parameters , grands ,costs = optimize(w, b, train_set_x,train_set_y, num_iterations=2000, learning_rate= 0.005, print_cost=100)\n",
    "\n",
    "train_Y_pred = predict(parameters['w'],parameters['b'],train_set_x,t = 0.5)\n",
    "test_Y_pred = predict(parameters['w'],parameters['b'],test_set_x,t = 0.5)\n",
    "print(\"训练集ACC:\",1 - np.mean(np.abs(train_Y_pred - train_set_y)))\n",
    "print(\"测试集ACC:\",1 - np.mean(np.abs(test_Y_pred - test_set_y)))"
   ]
  },
  {
   "cell_type": "code",
   "execution_count": 151,
   "id": "db92bc71",
   "metadata": {},
   "outputs": [
    {
     "data": {
      "image/png": "[encoded data removed]",
      "text/plain": [
       "<Figure size 432x288 with 1 Axes>"
      ]
     },
     "metadata": {
      "needs_background": "light"
     },
     "output_type": "display_data"
    }
   ],
   "source": [
    "plt.plot(costs)\n",
    "plt.ylabel('cost')\n",
    "plt.xlabel('iterations (per hundreds)')\n",
    "plt.show()"
   ]
  },
  {
   "cell_type": "code",
   "execution_count": null,
   "id": "df8a9939",
   "metadata": {},
   "outputs": [],
   "source": []
  },
  {
   "cell_type": "code",
   "execution_count": null,
   "id": "47facd89",
   "metadata": {},
   "outputs": [],
   "source": []
  },
  {
   "cell_type": "code",
   "execution_count": null,
   "id": "b89da9d8",
   "metadata": {},
   "outputs": [],
   "source": []
  },
  {
   "cell_type": "code",
   "execution_count": null,
   "id": "0a8a267f",
   "metadata": {},
   "outputs": [],
   "source": []
  }
 ],
 "metadata": {
  "kernelspec": {
   "display_name": "Python 3",
   "language": "python",
   "name": "python3"
  },
  "language_info": {
   "codemirror_mode": {
    "name": "ipython",
    "version": 3
   },
   "file_extension": ".py",
   "mimetype": "text/x-python",
   "name": "python",
   "nbconvert_exporter": "python",
   "pygments_lexer": "ipython3",
   "version": "3.8.8"
  }
 },
 "nbformat": 4,
 "nbformat_minor": 5
}
